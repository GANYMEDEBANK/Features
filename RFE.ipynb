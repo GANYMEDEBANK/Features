{
  "nbformat": 4,
  "nbformat_minor": 0,
  "metadata": {
    "colab": {
      "name": "RFE.ipynb",
      "provenance": [],
      "authorship_tag": "ABX9TyM7Fib/qOXPGGhewkE1vtfF",
      "include_colab_link": true
    },
    "kernelspec": {
      "name": "python3",
      "display_name": "Python 3"
    },
    "language_info": {
      "name": "python"
    }
  },
  "cells": [
    {
      "cell_type": "markdown",
      "metadata": {
        "id": "view-in-github",
        "colab_type": "text"
      },
      "source": [
        "<a href=\"https://colab.research.google.com/github/GANYMEDEBANK/Features/blob/main/RFE.ipynb\" target=\"_parent\"><img src=\"https://colab.research.google.com/assets/colab-badge.svg\" alt=\"Open In Colab\"/></a>"
      ]
    },
    {
      "cell_type": "code",
      "execution_count": 19,
      "metadata": {
        "id": "EsCzkbEAyw0a"
      },
      "outputs": [],
      "source": [
        "#importing libraries\n",
        "import numpy as np\n",
        "import pandas as pd\n",
        "import matplotlib.pyplot as plt\n",
        "import seaborn as sns\n",
        "from sklearn.datasets import load_breast_cancer\n",
        "from sklearn.model_selection import train_test_split\n",
        "from sklearn.linear_model import LogisticRegression\n",
        "from sklearn.metrics import accuracy_score, mean_absolute_error"
      ]
    },
    {
      "cell_type": "code",
      "source": [
        "#collecting data\n",
        "data = load_breast_cancer()\n",
        "#loading data in panda data frame\n",
        "df = pd.DataFrame(data.data, columns = data.feature_names)\n",
        "#adding the target column\n",
        "df['Result'] = data.target"
      ],
      "metadata": {
        "id": "oIKC0QlizpnI"
      },
      "execution_count": 20,
      "outputs": []
    },
    {
      "cell_type": "code",
      "source": [
        "X = df.drop(columns = 'Result', axis = 1)\n",
        "y = df['Result']"
      ],
      "metadata": {
        "id": "HqD0-spnz7dA"
      },
      "execution_count": 21,
      "outputs": []
    },
    {
      "cell_type": "code",
      "source": [
        "#train_test_split\n",
        "X_train, X_test, y_train, y_test = train_test_split(X,y, test_size = 0.33, random_state = 0)"
      ],
      "metadata": {
        "id": "k9aiRQDj0Csj"
      },
      "execution_count": 22,
      "outputs": []
    },
    {
      "cell_type": "code",
      "source": [
        "#model\n",
        "model = LogisticRegression()\n",
        "model.fit(X_train, y_train)"
      ],
      "metadata": {
        "colab": {
          "base_uri": "https://localhost:8080/"
        },
        "id": "1VFcGuL00D6u",
        "outputId": "6b61b0b2-09da-457a-dc6d-71ff199397b4"
      },
      "execution_count": 23,
      "outputs": [
        {
          "output_type": "stream",
          "name": "stderr",
          "text": [
            "/usr/local/lib/python3.7/dist-packages/sklearn/linear_model/_logistic.py:818: ConvergenceWarning: lbfgs failed to converge (status=1):\n",
            "STOP: TOTAL NO. of ITERATIONS REACHED LIMIT.\n",
            "\n",
            "Increase the number of iterations (max_iter) or scale the data as shown in:\n",
            "    https://scikit-learn.org/stable/modules/preprocessing.html\n",
            "Please also refer to the documentation for alternative solver options:\n",
            "    https://scikit-learn.org/stable/modules/linear_model.html#logistic-regression\n",
            "  extra_warning_msg=_LOGISTIC_SOLVER_CONVERGENCE_MSG,\n"
          ]
        },
        {
          "output_type": "execute_result",
          "data": {
            "text/plain": [
              "LogisticRegression()"
            ]
          },
          "metadata": {},
          "execution_count": 23
        }
      ]
    },
    {
      "cell_type": "code",
      "source": [
        "X_train_pred = model.predict(X_train)\n",
        "dt_accu = accuracy_score(y_train,X_train_pred)\n",
        "print(dt_accu)"
      ],
      "metadata": {
        "colab": {
          "base_uri": "https://localhost:8080/"
        },
        "id": "U_7DXo700Jxr",
        "outputId": "1cc5311d-2e97-49f8-aa2e-50820016edc1"
      },
      "execution_count": 24,
      "outputs": [
        {
          "output_type": "stream",
          "name": "stdout",
          "text": [
            "0.9448818897637795\n"
          ]
        }
      ]
    },
    {
      "cell_type": "code",
      "source": [
        "#accuracy on train data\n",
        "X_test_pred = model.predict(X_test)\n",
        "dt_accu = accuracy_score(y_test, X_test_pred)\n",
        "mae = mean_absolute_error(y_test,X_test_pred)"
      ],
      "metadata": {
        "id": "P5Y2R6Bm0UFr"
      },
      "execution_count": 25,
      "outputs": []
    },
    {
      "cell_type": "code",
      "source": [
        "from sklearn.metrics import confusion_matrix\n",
        "\n",
        "cm = confusion_matrix(X_test_pred, y_test)\n",
        "cm"
      ],
      "metadata": {
        "colab": {
          "base_uri": "https://localhost:8080/"
        },
        "id": "A1yEWfQO0XJ1",
        "outputId": "fe456bc2-d210-4f75-a388-8524097de85b"
      },
      "execution_count": 26,
      "outputs": [
        {
          "output_type": "execute_result",
          "data": {
            "text/plain": [
              "array([[ 66,   6],\n",
              "       [  1, 115]])"
            ]
          },
          "metadata": {},
          "execution_count": 26
        }
      ]
    },
    {
      "cell_type": "code",
      "source": [
        ""
      ],
      "metadata": {
        "id": "_M4CF22v9Tm3"
      },
      "execution_count": 26,
      "outputs": []
    },
    {
      "cell_type": "code",
      "source": [
        "from sklearn.preprocessing import StandardScaler\n",
        "\n",
        "sc = StandardScaler()\n",
        "X_train_std = sc.fit_transform(X_train)\n",
        "X_test_std = sc.transform(X_test)"
      ],
      "metadata": {
        "id": "EaESwFXh2Bvp"
      },
      "execution_count": 27,
      "outputs": []
    },
    {
      "cell_type": "code",
      "source": [
        "from sklearn.feature_selection import RFE\n",
        "\n",
        "lr = LogisticRegression()\n",
        "\n",
        "rfe = RFE(estimator = lr, n_features_to_select = 13, step = 1)\n",
        "rfe.fit(X_train_std, y_train)\n",
        "X_train_sub = rfe.transform(X_train_std)"
      ],
      "metadata": {
        "id": "jX1oYP8v26ov"
      },
      "execution_count": 28,
      "outputs": []
    },
    {
      "cell_type": "code",
      "source": [
        "rfe.support_"
      ],
      "metadata": {
        "colab": {
          "base_uri": "https://localhost:8080/"
        },
        "id": "7M4XI_5639hY",
        "outputId": "8a0b55a1-96f6-4aea-a150-5a38e450a07d"
      },
      "execution_count": 29,
      "outputs": [
        {
          "output_type": "execute_result",
          "data": {
            "text/plain": [
              "array([False, False, False, False, False, False,  True,  True, False,\n",
              "       False,  True, False,  True,  True, False,  True, False, False,\n",
              "       False, False,  True,  True,  True,  True, False, False,  True,\n",
              "        True,  True, False])"
            ]
          },
          "metadata": {},
          "execution_count": 29
        }
      ]
    },
    {
      "cell_type": "code",
      "source": [
        "df.columns[1:][rfe.support_]"
      ],
      "metadata": {
        "colab": {
          "base_uri": "https://localhost:8080/"
        },
        "id": "9a33ROTd4IZK",
        "outputId": "d762382c-3e31-43f9-f506-d8b953f2ec55"
      },
      "execution_count": 30,
      "outputs": [
        {
          "output_type": "execute_result",
          "data": {
            "text/plain": [
              "Index(['mean concave points', 'mean symmetry', 'texture error', 'area error',\n",
              "       'smoothness error', 'concavity error', 'worst texture',\n",
              "       'worst perimeter', 'worst area', 'worst smoothness',\n",
              "       'worst concave points', 'worst symmetry', 'worst fractal dimension'],\n",
              "      dtype='object')"
            ]
          },
          "metadata": {},
          "execution_count": 30
        }
      ]
    },
    {
      "cell_type": "code",
      "source": [
        "selected_X_train = pd.DataFrame(rfe.transform(X_train))\n",
        "selected_X_test = pd.DataFrame(rfe.transform(X_test))"
      ],
      "metadata": {
        "colab": {
          "base_uri": "https://localhost:8080/"
        },
        "id": "XKjpmi5y8TOi",
        "outputId": "ebf9e910-a9d4-4671-fa07-555510acc664"
      },
      "execution_count": 31,
      "outputs": [
        {
          "output_type": "stream",
          "name": "stderr",
          "text": [
            "/usr/local/lib/python3.7/dist-packages/sklearn/base.py:444: UserWarning: X has feature names, but RFE was fitted without feature names\n",
            "  f\"X has feature names, but {self.__class__.__name__} was fitted without\"\n",
            "/usr/local/lib/python3.7/dist-packages/sklearn/base.py:444: UserWarning: X has feature names, but RFE was fitted without feature names\n",
            "  f\"X has feature names, but {self.__class__.__name__} was fitted without\"\n"
          ]
        }
      ]
    },
    {
      "cell_type": "code",
      "source": [
        "selected_X_test.head()"
      ],
      "metadata": {
        "colab": {
          "base_uri": "https://localhost:8080/",
          "height": 206
        },
        "id": "tY1rRWX395ya",
        "outputId": "b93bc785-7ddc-4cda-c7e7-3e2cd651a284"
      },
      "execution_count": 32,
      "outputs": [
        {
          "output_type": "execute_result",
          "data": {
            "text/plain": [
              "        0        1       2      3      4         5      6      7       8   \\\n",
              "0  0.14450  0.08172  0.3906  3.093  33.67  0.022650  16.41  29.66  113.30   \n",
              "1  0.02772  0.02068  0.2084  1.314  17.58  0.008082  14.35  34.23   91.29   \n",
              "2  0.02087  0.02652  0.2142  1.606  19.25  0.009238  14.91  19.31   96.53   \n",
              "3  0.02475  0.01374  0.2300  1.661  20.56  0.013770  16.22  25.26  105.80   \n",
              "4  0.02562  0.02923  0.1839  1.170  14.16  0.004899  13.30  22.81   84.46   \n",
              "\n",
              "      9        10       11      12  \n",
              "0  844.4  0.51060  0.20510  0.3585  \n",
              "1  632.9  0.13900  0.06005  0.2444  \n",
              "2  688.9  0.06260  0.08216  0.2136  \n",
              "3  819.7  0.15650  0.07530  0.2636  \n",
              "4  545.9  0.04833  0.05013  0.1987  "
            ],
            "text/html": [
              "\n",
              "  <div id=\"df-6c94afa0-87d5-4ae8-b2f9-03108433df42\">\n",
              "    <div class=\"colab-df-container\">\n",
              "      <div>\n",
              "<style scoped>\n",
              "    .dataframe tbody tr th:only-of-type {\n",
              "        vertical-align: middle;\n",
              "    }\n",
              "\n",
              "    .dataframe tbody tr th {\n",
              "        vertical-align: top;\n",
              "    }\n",
              "\n",
              "    .dataframe thead th {\n",
              "        text-align: right;\n",
              "    }\n",
              "</style>\n",
              "<table border=\"1\" class=\"dataframe\">\n",
              "  <thead>\n",
              "    <tr style=\"text-align: right;\">\n",
              "      <th></th>\n",
              "      <th>0</th>\n",
              "      <th>1</th>\n",
              "      <th>2</th>\n",
              "      <th>3</th>\n",
              "      <th>4</th>\n",
              "      <th>5</th>\n",
              "      <th>6</th>\n",
              "      <th>7</th>\n",
              "      <th>8</th>\n",
              "      <th>9</th>\n",
              "      <th>10</th>\n",
              "      <th>11</th>\n",
              "      <th>12</th>\n",
              "    </tr>\n",
              "  </thead>\n",
              "  <tbody>\n",
              "    <tr>\n",
              "      <th>0</th>\n",
              "      <td>0.14450</td>\n",
              "      <td>0.08172</td>\n",
              "      <td>0.3906</td>\n",
              "      <td>3.093</td>\n",
              "      <td>33.67</td>\n",
              "      <td>0.022650</td>\n",
              "      <td>16.41</td>\n",
              "      <td>29.66</td>\n",
              "      <td>113.30</td>\n",
              "      <td>844.4</td>\n",
              "      <td>0.51060</td>\n",
              "      <td>0.20510</td>\n",
              "      <td>0.3585</td>\n",
              "    </tr>\n",
              "    <tr>\n",
              "      <th>1</th>\n",
              "      <td>0.02772</td>\n",
              "      <td>0.02068</td>\n",
              "      <td>0.2084</td>\n",
              "      <td>1.314</td>\n",
              "      <td>17.58</td>\n",
              "      <td>0.008082</td>\n",
              "      <td>14.35</td>\n",
              "      <td>34.23</td>\n",
              "      <td>91.29</td>\n",
              "      <td>632.9</td>\n",
              "      <td>0.13900</td>\n",
              "      <td>0.06005</td>\n",
              "      <td>0.2444</td>\n",
              "    </tr>\n",
              "    <tr>\n",
              "      <th>2</th>\n",
              "      <td>0.02087</td>\n",
              "      <td>0.02652</td>\n",
              "      <td>0.2142</td>\n",
              "      <td>1.606</td>\n",
              "      <td>19.25</td>\n",
              "      <td>0.009238</td>\n",
              "      <td>14.91</td>\n",
              "      <td>19.31</td>\n",
              "      <td>96.53</td>\n",
              "      <td>688.9</td>\n",
              "      <td>0.06260</td>\n",
              "      <td>0.08216</td>\n",
              "      <td>0.2136</td>\n",
              "    </tr>\n",
              "    <tr>\n",
              "      <th>3</th>\n",
              "      <td>0.02475</td>\n",
              "      <td>0.01374</td>\n",
              "      <td>0.2300</td>\n",
              "      <td>1.661</td>\n",
              "      <td>20.56</td>\n",
              "      <td>0.013770</td>\n",
              "      <td>16.22</td>\n",
              "      <td>25.26</td>\n",
              "      <td>105.80</td>\n",
              "      <td>819.7</td>\n",
              "      <td>0.15650</td>\n",
              "      <td>0.07530</td>\n",
              "      <td>0.2636</td>\n",
              "    </tr>\n",
              "    <tr>\n",
              "      <th>4</th>\n",
              "      <td>0.02562</td>\n",
              "      <td>0.02923</td>\n",
              "      <td>0.1839</td>\n",
              "      <td>1.170</td>\n",
              "      <td>14.16</td>\n",
              "      <td>0.004899</td>\n",
              "      <td>13.30</td>\n",
              "      <td>22.81</td>\n",
              "      <td>84.46</td>\n",
              "      <td>545.9</td>\n",
              "      <td>0.04833</td>\n",
              "      <td>0.05013</td>\n",
              "      <td>0.1987</td>\n",
              "    </tr>\n",
              "  </tbody>\n",
              "</table>\n",
              "</div>\n",
              "      <button class=\"colab-df-convert\" onclick=\"convertToInteractive('df-6c94afa0-87d5-4ae8-b2f9-03108433df42')\"\n",
              "              title=\"Convert this dataframe to an interactive table.\"\n",
              "              style=\"display:none;\">\n",
              "        \n",
              "  <svg xmlns=\"http://www.w3.org/2000/svg\" height=\"24px\"viewBox=\"0 0 24 24\"\n",
              "       width=\"24px\">\n",
              "    <path d=\"M0 0h24v24H0V0z\" fill=\"none\"/>\n",
              "    <path d=\"M18.56 5.44l.94 2.06.94-2.06 2.06-.94-2.06-.94-.94-2.06-.94 2.06-2.06.94zm-11 1L8.5 8.5l.94-2.06 2.06-.94-2.06-.94L8.5 2.5l-.94 2.06-2.06.94zm10 10l.94 2.06.94-2.06 2.06-.94-2.06-.94-.94-2.06-.94 2.06-2.06.94z\"/><path d=\"M17.41 7.96l-1.37-1.37c-.4-.4-.92-.59-1.43-.59-.52 0-1.04.2-1.43.59L10.3 9.45l-7.72 7.72c-.78.78-.78 2.05 0 2.83L4 21.41c.39.39.9.59 1.41.59.51 0 1.02-.2 1.41-.59l7.78-7.78 2.81-2.81c.8-.78.8-2.07 0-2.86zM5.41 20L4 18.59l7.72-7.72 1.47 1.35L5.41 20z\"/>\n",
              "  </svg>\n",
              "      </button>\n",
              "      \n",
              "  <style>\n",
              "    .colab-df-container {\n",
              "      display:flex;\n",
              "      flex-wrap:wrap;\n",
              "      gap: 12px;\n",
              "    }\n",
              "\n",
              "    .colab-df-convert {\n",
              "      background-color: #E8F0FE;\n",
              "      border: none;\n",
              "      border-radius: 50%;\n",
              "      cursor: pointer;\n",
              "      display: none;\n",
              "      fill: #1967D2;\n",
              "      height: 32px;\n",
              "      padding: 0 0 0 0;\n",
              "      width: 32px;\n",
              "    }\n",
              "\n",
              "    .colab-df-convert:hover {\n",
              "      background-color: #E2EBFA;\n",
              "      box-shadow: 0px 1px 2px rgba(60, 64, 67, 0.3), 0px 1px 3px 1px rgba(60, 64, 67, 0.15);\n",
              "      fill: #174EA6;\n",
              "    }\n",
              "\n",
              "    [theme=dark] .colab-df-convert {\n",
              "      background-color: #3B4455;\n",
              "      fill: #D2E3FC;\n",
              "    }\n",
              "\n",
              "    [theme=dark] .colab-df-convert:hover {\n",
              "      background-color: #434B5C;\n",
              "      box-shadow: 0px 1px 3px 1px rgba(0, 0, 0, 0.15);\n",
              "      filter: drop-shadow(0px 1px 2px rgba(0, 0, 0, 0.3));\n",
              "      fill: #FFFFFF;\n",
              "    }\n",
              "  </style>\n",
              "\n",
              "      <script>\n",
              "        const buttonEl =\n",
              "          document.querySelector('#df-6c94afa0-87d5-4ae8-b2f9-03108433df42 button.colab-df-convert');\n",
              "        buttonEl.style.display =\n",
              "          google.colab.kernel.accessAllowed ? 'block' : 'none';\n",
              "\n",
              "        async function convertToInteractive(key) {\n",
              "          const element = document.querySelector('#df-6c94afa0-87d5-4ae8-b2f9-03108433df42');\n",
              "          const dataTable =\n",
              "            await google.colab.kernel.invokeFunction('convertToInteractive',\n",
              "                                                     [key], {});\n",
              "          if (!dataTable) return;\n",
              "\n",
              "          const docLinkHtml = 'Like what you see? Visit the ' +\n",
              "            '<a target=\"_blank\" href=https://colab.research.google.com/notebooks/data_table.ipynb>data table notebook</a>'\n",
              "            + ' to learn more about interactive tables.';\n",
              "          element.innerHTML = '';\n",
              "          dataTable['output_type'] = 'display_data';\n",
              "          await google.colab.output.renderOutput(dataTable, element);\n",
              "          const docLink = document.createElement('div');\n",
              "          docLink.innerHTML = docLinkHtml;\n",
              "          element.appendChild(docLink);\n",
              "        }\n",
              "      </script>\n",
              "    </div>\n",
              "  </div>\n",
              "  "
            ]
          },
          "metadata": {},
          "execution_count": 32
        }
      ]
    },
    {
      "cell_type": "code",
      "source": [
        "#model\n",
        "model = LogisticRegression()\n",
        "model.fit(selected_X_train, y_train)"
      ],
      "metadata": {
        "colab": {
          "base_uri": "https://localhost:8080/"
        },
        "id": "Z4W04hpo8tP_",
        "outputId": "5e421c87-6ec1-4ae1-93d2-37a94777f9eb"
      },
      "execution_count": 33,
      "outputs": [
        {
          "output_type": "stream",
          "name": "stderr",
          "text": [
            "/usr/local/lib/python3.7/dist-packages/sklearn/linear_model/_logistic.py:818: ConvergenceWarning: lbfgs failed to converge (status=1):\n",
            "STOP: TOTAL NO. of ITERATIONS REACHED LIMIT.\n",
            "\n",
            "Increase the number of iterations (max_iter) or scale the data as shown in:\n",
            "    https://scikit-learn.org/stable/modules/preprocessing.html\n",
            "Please also refer to the documentation for alternative solver options:\n",
            "    https://scikit-learn.org/stable/modules/linear_model.html#logistic-regression\n",
            "  extra_warning_msg=_LOGISTIC_SOLVER_CONVERGENCE_MSG,\n"
          ]
        },
        {
          "output_type": "execute_result",
          "data": {
            "text/plain": [
              "LogisticRegression()"
            ]
          },
          "metadata": {},
          "execution_count": 33
        }
      ]
    },
    {
      "cell_type": "code",
      "source": [
        "X_train_pred = model.predict(selected_X_train)\n",
        "dt_accu = accuracy_score(y_train,X_train_pred)\n",
        "print(dt_accu)"
      ],
      "metadata": {
        "colab": {
          "base_uri": "https://localhost:8080/"
        },
        "id": "N9szkUWd9Nrm",
        "outputId": "1c2d5288-4129-41eb-842b-7552aa87f293"
      },
      "execution_count": 34,
      "outputs": [
        {
          "output_type": "stream",
          "name": "stdout",
          "text": [
            "0.9422572178477691\n"
          ]
        }
      ]
    },
    {
      "cell_type": "code",
      "source": [
        "#accuracy on train data\n",
        "X_test_pred = model.predict(selected_X_test)\n",
        "dt_accu = accuracy_score(y_test, X_test_pred)\n",
        "mae = mean_absolute_error(y_test,X_test_pred)"
      ],
      "metadata": {
        "id": "XxixetXc9UmC"
      },
      "execution_count": 35,
      "outputs": []
    },
    {
      "cell_type": "code",
      "source": [
        "from sklearn.metrics import confusion_matrix\n",
        "\n",
        "cm = confusion_matrix(X_test_pred, y_test)\n",
        "cm"
      ],
      "metadata": {
        "colab": {
          "base_uri": "https://localhost:8080/"
        },
        "id": "gGBaxdi0-XgW",
        "outputId": "60d3adfd-1308-48df-d8a5-5bb4c9279b81"
      },
      "execution_count": 36,
      "outputs": [
        {
          "output_type": "execute_result",
          "data": {
            "text/plain": [
              "array([[ 66,   4],\n",
              "       [  1, 117]])"
            ]
          },
          "metadata": {},
          "execution_count": 36
        }
      ]
    }
  ]
}